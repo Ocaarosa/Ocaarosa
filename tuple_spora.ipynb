{
  "nbformat": 4,
  "nbformat_minor": 0,
  "metadata": {
    "colab": {
      "provenance": [],
      "authorship_tag": "ABX9TyOlpvRr+QvokZFguWE+SLpR",
      "include_colab_link": true
    },
    "kernelspec": {
      "name": "python3",
      "display_name": "Python 3"
    },
    "language_info": {
      "name": "python"
    }
  },
  "cells": [
    {
      "cell_type": "markdown",
      "metadata": {
        "id": "view-in-github",
        "colab_type": "text"
      },
      "source": [
        "<a href=\"https://colab.research.google.com/github/Ocaarosa/Ocaarosa/blob/main/tuple_spora.ipynb\" target=\"_parent\"><img src=\"https://colab.research.google.com/assets/colab-badge.svg\" alt=\"Open In Colab\"/></a>"
      ]
    },
    {
      "cell_type": "code",
      "execution_count": null,
      "metadata": {
        "id": "XJj5G5Zj2xxa"
      },
      "outputs": [],
      "source": [
        "#contoh list and tuple"
      ]
    },
    {
      "cell_type": "code",
      "source": [
        "#contoh list"
      ],
      "metadata": {
        "id": "NbkKIHc13MwH"
      },
      "execution_count": null,
      "outputs": []
    },
    {
      "cell_type": "code",
      "source": [
        "datalist = [2,4,6,\"delapan\"]"
      ],
      "metadata": {
        "id": "0rOjLC973Szl"
      },
      "execution_count": null,
      "outputs": []
    },
    {
      "cell_type": "code",
      "source": [
        "print(datalist)"
      ],
      "metadata": {
        "colab": {
          "base_uri": "https://localhost:8080/"
        },
        "id": "b3glulYa3gXh",
        "outputId": "68dc034d-616a-4946-abed-bb88e667b9ba"
      },
      "execution_count": null,
      "outputs": [
        {
          "output_type": "stream",
          "name": "stdout",
          "text": [
            "[2, 4, 6, 'delapan']\n"
          ]
        }
      ]
    },
    {
      "cell_type": "code",
      "source": [
        "datalist.append(\"sembilan\")"
      ],
      "metadata": {
        "id": "p3IxUjQC40ed"
      },
      "execution_count": null,
      "outputs": []
    },
    {
      "cell_type": "code",
      "source": [
        "print(datalist)"
      ],
      "metadata": {
        "colab": {
          "base_uri": "https://localhost:8080/"
        },
        "id": "qMLxzM205DxQ",
        "outputId": "c86ab5e0-fe44-40c1-ade5-09a648500ad6"
      },
      "execution_count": null,
      "outputs": [
        {
          "output_type": "stream",
          "name": "stdout",
          "text": [
            "[2, 4, 6, 'delapan', 'sembilan', 'sembilan', 'sembilan', 'sembilan']\n"
          ]
        }
      ]
    },
    {
      "cell_type": "code",
      "source": [
        "datalist.insert(2,4)"
      ],
      "metadata": {
        "id": "jrApBF245JWl"
      },
      "execution_count": null,
      "outputs": []
    },
    {
      "cell_type": "code",
      "source": [
        "datalist.pop(1)"
      ],
      "metadata": {
        "colab": {
          "base_uri": "https://localhost:8080/"
        },
        "id": "XfbMxX3R5Pse",
        "outputId": "1db73a22-5bf2-46f8-e53c-a5ee3df29964"
      },
      "execution_count": null,
      "outputs": [
        {
          "output_type": "execute_result",
          "data": {
            "text/plain": [
              "4"
            ]
          },
          "metadata": {},
          "execution_count": 16
        }
      ]
    },
    {
      "cell_type": "code",
      "source": [
        "#contoh tuple"
      ],
      "metadata": {
        "id": "mPb97kfS5YYn"
      },
      "execution_count": null,
      "outputs": []
    },
    {
      "cell_type": "code",
      "source": [
        "nametuple = (\"mari\",\"belajar\",\"python\",\"tuple\")"
      ],
      "metadata": {
        "id": "FuSxA3nN5gyE"
      },
      "execution_count": null,
      "outputs": []
    },
    {
      "cell_type": "code",
      "source": [
        "print(len(nametuple))"
      ],
      "metadata": {
        "colab": {
          "base_uri": "https://localhost:8080/"
        },
        "id": "XyyX-m5L58qp",
        "outputId": "015aa298-72f8-467e-a90c-d36dd978e791"
      },
      "execution_count": null,
      "outputs": [
        {
          "output_type": "stream",
          "name": "stdout",
          "text": [
            "4\n"
          ]
        }
      ]
    },
    {
      "cell_type": "code",
      "source": [
        "print(nametuple[1])"
      ],
      "metadata": {
        "colab": {
          "base_uri": "https://localhost:8080/"
        },
        "id": "V3WWvwsO6L9Z",
        "outputId": "833f158b-7336-478f-86bb-bfe0f487103f"
      },
      "execution_count": null,
      "outputs": [
        {
          "output_type": "stream",
          "name": "stdout",
          "text": [
            "belajar\n"
          ]
        }
      ]
    },
    {
      "cell_type": "code",
      "source": [
        "print(nametuple)"
      ],
      "metadata": {
        "colab": {
          "base_uri": "https://localhost:8080/"
        },
        "id": "PmJXE6rf6Xah",
        "outputId": "71f49aa5-7377-4406-8029-4ec840b19040"
      },
      "execution_count": null,
      "outputs": [
        {
          "output_type": "stream",
          "name": "stdout",
          "text": [
            "('mari', 'belajar', 'python', 'tuple')\n"
          ]
        }
      ]
    },
    {
      "cell_type": "code",
      "source": [
        "print('')"
      ],
      "metadata": {
        "colab": {
          "base_uri": "https://localhost:8080/"
        },
        "id": "WBKHol2F6cEq",
        "outputId": "6a48bb95-3bb5-433b-f401-6a128cb2d6ba"
      },
      "execution_count": null,
      "outputs": [
        {
          "output_type": "stream",
          "name": "stdout",
          "text": [
            "\n"
          ]
        }
      ]
    },
    {
      "cell_type": "code",
      "source": [
        "print(nametuple[1])"
      ],
      "metadata": {
        "colab": {
          "base_uri": "https://localhost:8080/"
        },
        "id": "k4a8a3hz6g-z",
        "outputId": "896ecdbc-b10c-4233-8e2b-3cd058e2994b"
      },
      "execution_count": null,
      "outputs": [
        {
          "output_type": "stream",
          "name": "stdout",
          "text": [
            "belajar\n"
          ]
        }
      ]
    },
    {
      "cell_type": "code",
      "source": [
        "print(nametuple[2])"
      ],
      "metadata": {
        "colab": {
          "base_uri": "https://localhost:8080/"
        },
        "id": "xwKjgEZF6pfr",
        "outputId": "642be2e0-c70f-4ea5-a93e-3a76b4953f5d"
      },
      "execution_count": null,
      "outputs": [
        {
          "output_type": "stream",
          "name": "stdout",
          "text": [
            "python\n"
          ]
        }
      ]
    },
    {
      "cell_type": "code",
      "source": [
        "print(nametuple[0])"
      ],
      "metadata": {
        "colab": {
          "base_uri": "https://localhost:8080/"
        },
        "id": "3YtDNHp26u3h",
        "outputId": "4cb21c92-d6e5-484e-dd42-ac53d633f90c"
      },
      "execution_count": null,
      "outputs": [
        {
          "output_type": "stream",
          "name": "stdout",
          "text": [
            "mari\n"
          ]
        }
      ]
    },
    {
      "cell_type": "code",
      "source": [
        "print('')"
      ],
      "metadata": {
        "colab": {
          "base_uri": "https://localhost:8080/"
        },
        "id": "-4a28TP76zXG",
        "outputId": "3a0745af-8c46-4721-af05-23291d232e7e"
      },
      "execution_count": null,
      "outputs": [
        {
          "output_type": "stream",
          "name": "stdout",
          "text": [
            "\n"
          ]
        }
      ]
    },
    {
      "cell_type": "code",
      "source": [
        "for a in nametuple:\n",
        "  print(a)"
      ],
      "metadata": {
        "colab": {
          "base_uri": "https://localhost:8080/"
        },
        "id": "0UdM_0VN63AO",
        "outputId": "64663dc7-5afc-4330-d433-0b460833707a"
      },
      "execution_count": null,
      "outputs": [
        {
          "output_type": "stream",
          "name": "stdout",
          "text": [
            "mari\n",
            "belajar\n",
            "python\n",
            "tuple\n"
          ]
        }
      ]
    },
    {
      "cell_type": "code",
      "source": [
        "print('')"
      ],
      "metadata": {
        "colab": {
          "base_uri": "https://localhost:8080/"
        },
        "id": "vLKoCztN7QIr",
        "outputId": "dd2646dd-7ff3-4724-c1e7-2875d11e789e"
      },
      "execution_count": null,
      "outputs": [
        {
          "output_type": "stream",
          "name": "stdout",
          "text": [
            "\n"
          ]
        }
      ]
    },
    {
      "cell_type": "code",
      "source": [
        "print(\"METODE TUPLE\")"
      ],
      "metadata": {
        "colab": {
          "base_uri": "https://localhost:8080/"
        },
        "id": "dhOF-1FM7TI5",
        "outputId": "a9de6c79-c7be-4a8a-b9fa-1bcd417c5ccb"
      },
      "execution_count": null,
      "outputs": [
        {
          "output_type": "stream",
          "name": "stdout",
          "text": [
            "METODE TUPLE\n"
          ]
        }
      ]
    },
    {
      "cell_type": "code",
      "source": [],
      "metadata": {
        "id": "DCakTH7f7dev"
      },
      "execution_count": null,
      "outputs": []
    }
  ]
}