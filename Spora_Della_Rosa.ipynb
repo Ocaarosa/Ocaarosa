{
  "nbformat": 4,
  "nbformat_minor": 0,
  "metadata": {
    "colab": {
      "provenance": [],
      "authorship_tag": "ABX9TyMR183mEFwn3jFcZo8CqYUo",
      "include_colab_link": true
    },
    "kernelspec": {
      "name": "python3",
      "display_name": "Python 3"
    },
    "language_info": {
      "name": "python"
    }
  },
  "cells": [
    {
      "cell_type": "markdown",
      "metadata": {
        "id": "view-in-github",
        "colab_type": "text"
      },
      "source": [
        "<a href=\"https://colab.research.google.com/github/Ocaarosa/Ocaarosa/blob/main/Spora_Della_Rosa.ipynb\" target=\"_parent\"><img src=\"https://colab.research.google.com/assets/colab-badge.svg\" alt=\"Open In Colab\"/></a>"
      ]
    },
    {
      "cell_type": "code",
      "execution_count": 1,
      "metadata": {
        "id": "f9IkKT-8Edtd",
        "colab": {
          "base_uri": "https://localhost:8080/",
          "height": 0
        },
        "outputId": "cc1d9a2a-3bd0-44f2-b6d0-d7bc97710974"
      },
      "outputs": [
        {
          "output_type": "stream",
          "name": "stdout",
          "text": [
            "Kode program ini akan dieksekusi\n",
            "Kode program ini akan selalu dieksekusi karena tidak termasuk percobaan\n"
          ]
        }
      ],
      "source": [
        "if True:\n",
        "  print('Kode program ini akan dieksekusi')\n",
        "\n",
        "if False:\n",
        "  print('Kode program ini tidak akan dieksekusi')\n",
        "print('Kode program ini akan selalu dieksekusi karena tidak termasuk percobaan')"
      ]
    },
    {
      "cell_type": "code",
      "source": [
        "nilai = 70.5\n",
        "print('Nilai anda adalah:', nilai, '\\n')\n",
        "if nilai >= 70:\n",
        "  print('Selamat, anda lulus!')\n",
        "else:\n",
        "  print('Maaf, anda tidak lulus.')"
      ],
      "metadata": {
        "colab": {
          "base_uri": "https://localhost:8080/",
          "height": 0
        },
        "id": "F7FZ1h3sriNY",
        "outputId": "5e433497-2e11-4fe5-ccfc-9d8ee155da79"
      },
      "execution_count": 2,
      "outputs": [
        {
          "output_type": "stream",
          "name": "stdout",
          "text": [
            "Nilai anda adalah: 70.5 \n",
            "\n",
            "Selamat, anda lulus!\n"
          ]
        }
      ]
    },
    {
      "cell_type": "code",
      "source": [
        "nilai = int(input('Masukan nilai anda:'))\n",
        "print('Nilai anda adalah:', nilai, '\\n')\n",
        "if nilai >= 70:\n",
        "  print('Selamat, anda lulus!')\n",
        "else:\n",
        "  print('Maaf, anda tidak lulus.')"
      ],
      "metadata": {
        "colab": {
          "base_uri": "https://localhost:8080/",
          "height": 0
        },
        "id": "STEBiWoQrkQP",
        "outputId": "49c770ec-5133-4190-b5ca-dcdceeacac47"
      },
      "execution_count": 3,
      "outputs": [
        {
          "output_type": "stream",
          "name": "stdout",
          "text": [
            "Masukan nilai anda:60\n",
            "Nilai anda adalah: 60 \n",
            "\n",
            "Maaf, anda tidak lulus.\n"
          ]
        }
      ]
    },
    {
      "cell_type": "code",
      "source": [
        "nilai = int(input('Masukan nilai anda:'))\n",
        "\n",
        "if nilai >= 90:\n",
        "  print('Predikat A')\n",
        "if nilai >= 90:\n",
        "  print('Predikat A')\n",
        "elif nilai >= 80:\n",
        "  print('Predikat B')\n",
        "elif nilai >= 60:\n",
        "  print('Predikat C')\n",
        "elif nilai >= 40:\n",
        "  print('Predikat D')\n",
        "else:\n",
        "  print('Predikat E')"
      ],
      "metadata": {
        "colab": {
          "base_uri": "https://localhost:8080/",
          "height": 0
        },
        "id": "sJY5LtHbrw2G",
        "outputId": "ffea15fd-87c4-4b92-ce8f-4b5ae2b537d4"
      },
      "execution_count": 4,
      "outputs": [
        {
          "output_type": "stream",
          "name": "stdout",
          "text": [
            "Masukan nilai anda:60\n",
            "Predikat C\n"
          ]
        }
      ]
    },
    {
      "cell_type": "code",
      "source": [
        "nilai = int(input('Masukan nilai anda:'))\n",
        "usia = int(input('Masukan nilai anda:'))\n",
        "if nilai >= 70:\n",
        "  if nilai < 15:\n",
        "    print('Selamat adek, kamu lulus!')\n",
        "  else:\n",
        "    print('Selamat kakak, kamu lulus!')\n",
        "else:\n",
        "  if (usia < 15):\n",
        "    print('Nice try, ya dek!')\n",
        "  else:\n",
        "    print('Nice try, bro!' )"
      ],
      "metadata": {
        "colab": {
          "base_uri": "https://localhost:8080/",
          "height": 0
        },
        "id": "9f40CXOZsmzt",
        "outputId": "61f94107-473f-469b-a31a-c965e65f339f"
      },
      "execution_count": 8,
      "outputs": [
        {
          "output_type": "stream",
          "name": "stdout",
          "text": [
            "Masukan nilai anda:90\n",
            "Masukan nilai anda:50\n",
            "Selamat kakak, kamu lulus!\n"
          ]
        }
      ]
    }
  ]
}